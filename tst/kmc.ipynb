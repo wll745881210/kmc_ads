{
 "cells": [
  {
   "cell_type": "code",
   "execution_count": 1,
   "id": "67c08bef",
   "metadata": {},
   "outputs": [],
   "source": [
    "############################################################\n",
    "import os, re\n",
    "from glob              import glob\n",
    "from scipy.optimize    import curve_fit, fsolve, root\n",
    "from scipy.interpolate import interp1d, interp2d, interpn\n",
    "from scipy.special     import erf\n",
    "from scipy.integrate   import odeint, solve_ivp\n",
    "from collections       import OrderedDict\n",
    "from configparser      import ConfigParser\n",
    "\n",
    "%reload_ext autoreload\n",
    "%autoreload 1\n",
    "from   pylab         import *\n",
    "\n",
    "import matplotlib\n",
    "%matplotlib inline\n",
    "\n",
    "matplotlib.rcParams[ 'font.size'        ] = 14;\n",
    "matplotlib.rcParams[ 'font.family'      ] = 'serif';\n",
    "matplotlib.rcParams[ 'text.usetex'      ] = True;\n",
    "matplotlib.rcParams[ 'axes.labelsize'   ] = 16;\n",
    "matplotlib.rcParams[ 'legend.fontsize'  ] = 14;\n",
    "matplotlib.rcParams[ 'legend.edgecolor' ] = 'k';\n",
    "matplotlib.rcParams[ 'figure.facecolor' ] = 'w';\n",
    "matplotlib.rcParams[ 'figure.facecolor' ] = 'w';\n",
    "\n",
    "\n",
    "h      = 6.62607e-27;   # CGS Planctk constant\n",
    "kb     = 1.38065e-16;   # CGS Boltzmann constant\n",
    "eV     = 1.60218e-12;   # CGS eV\n",
    "c      = 2.99792458e10; # CGS speed of light\n",
    "e_c    = 4.80321e-10;   # CGS electron charge\n",
    "me     = 9.1094e-28;    # CGS electron mass;\n",
    "mp     = 1.67262e-24;   # CGS proton mass;\n",
    "AU     = 1.49598e13     # Astronomical Unit in cm\n",
    "yr     = 3.1536e7       # 1 yr in sec\n",
    "G      = 6.6740831e-8   # CGS graviational constant\n",
    "sig_sb = 5.6704e-5      # Stefan-Boltzmann\n",
    "\n",
    "modot  = 2e33;\n",
    "mearth = 6e27\n",
    "rearth = 6.4e8;\n",
    "lodot  = 3.828e33; \n",
    "yr     = 365. * 86400.;\n",
    "\n",
    "\n",
    "# species = [ 'Vacant', r'H$_2$', r'H$_2$O', 'CO' ];\n",
    "# colors  = [ plt.cm.tab20( i ) for i in [ 14, 18, 19, 2 ] ];\n",
    "\n",
    "species = [ 'Vacant', r'H$_2$O', 'CO' ];\n",
    "colors  = [ plt.cm.tab20( i ) for i in [ 14, 19, 2 ] ];\n",
    "cmap    = mpl.colors.ListedColormap( colors );\n",
    "############################################################"
   ]
  },
  {
   "cell_type": "code",
   "execution_count": 2,
   "id": "95a25d18",
   "metadata": {},
   "outputs": [],
   "source": [
    "class disk_model:\n",
    "    def __init__( self, sigma_1 = 600, sig_idx   = -1.5, \\\n",
    "                  T_1 = 280, T_idx = -0.4, gamma =  1.4, \\\n",
    "                  mu  = 2 * mp, M_star = modot ):\n",
    "        self.sigma_1 = sigma_1;\n",
    "        self.sig_idx = sig_idx;\n",
    "        self.T_1     =     T_1;\n",
    "        self.T_idx   =   T_idx;\n",
    "        self.gamma   =   gamma;\n",
    "        self.mu      =      mu;\n",
    "        self.M_star  =  M_star;\n",
    "    #\n",
    "    def T( self, r ):\n",
    "        return self.T_1 * ( r / AU )**self.T_idx;\n",
    "    #    \n",
    "    def Omega( self, r ):\n",
    "        return sqrt( G * self.M_star / r**3 );\n",
    "    #\n",
    "    def cs( self, r ):\n",
    "        return sqrt( self.gamma * kb * self.T( r ) / self.mu );\n",
    "    #\n",
    "    def h( self, r ):\n",
    "        return self.cs( r ) / self.Omega( r );\n",
    "    #\n",
    "    def sigma( self, r ):\n",
    "        return self.sigma_1 * ( r / AU )**self.sig_idx;\n",
    "    #\n",
    "    def n_0  ( self, r ):\n",
    "        return self.sigma( r ) / sqrt( 2 * pi ) \\\n",
    "             / self.h( r ) / mp;\n",
    "    #\n",
    "#\n",
    "\n",
    "def f_msT_trans( n, mu, T ):\n",
    "    ''' -sT in F '''\n",
    "    lam2 = h**2 / ( 2 * pi * mu * kb * T );\n",
    "    # res  = log( cbrt( n ) * sqrt( lam2 ) );    \n",
    "    # l0   = minimum( 1e-4, cbrt( n )**-1 )\n",
    "    l0   = 1e-5\n",
    "    res  = log( l0**-1 * sqrt( lam2 ) );    \n",
    "    return res * kb * T;\n",
    "#\n",
    "def f_osci( nu, T ):\n",
    "    kbT  = kb * T;\n",
    "    hv   = h * nu;\n",
    "    return kbT * log( 1 - exp( -hv / kbT ) ) + hv / 2;\n",
    "#\n",
    "\n",
    "def de_perp( nu, T ):\n",
    "    kbT  = kb * T;\n",
    "    hv   = h * nu;\n",
    "    return hv * ( 0.5 + 1. / ( exp( hv / kbT ) - 1 ) ) \\\n",
    "         - 0.5 * kbT;\n",
    "#"
   ]
  },
  {
   "cell_type": "code",
   "execution_count": 40,
   "id": "d60e6f91",
   "metadata": {},
   "outputs": [
    {
     "data": {
      "text/plain": [
       "0.00390625"
      ]
     },
     "execution_count": 40,
     "metadata": {},
     "output_type": "execute_result"
    }
   ],
   "source": [
    "4 * 4 / 64**2"
   ]
  },
  {
   "cell_type": "code",
   "execution_count": 56,
   "id": "0f7283a2",
   "metadata": {},
   "outputs": [
    {
     "name": "stdout",
     "output_type": "stream",
     "text": [
      "0\n",
      "1\n",
      "0\n",
      "1\n",
      "0\n",
      "1\n",
      "0\n",
      "1\n",
      "0\n",
      "1\n",
      "0\n",
      "1\n",
      "0\n",
      "1\n",
      "0\n",
      "1\n",
      "0\n",
      "1\n",
      "0\n",
      "1\n",
      "0\n",
      "1\n",
      "0\n",
      "1\n",
      "0\n",
      "1\n",
      "0\n"
     ]
    },
    {
     "name": "stderr",
     "output_type": "stream",
     "text": [
      "rm: cannot remove 'pars/test_*.par': No such file or directory\n"
     ]
    }
   ],
   "source": [
    "tgt = '/home/lilew/kiaagpu/scratch/ads_emu/graphite/'\n",
    "par_src = 'pars/c.par';\n",
    "\n",
    "species_gen = [ 'H2O', 'CO' ];\n",
    "mu_atm  = [ 18, 28 ];\n",
    "abund   = [ 1.4e-4, 1.8e-4 ];\n",
    "\n",
    "dd = disk_model(  );\n",
    "\n",
    "sig_0 = 1e-15;\n",
    "\n",
    "R_arr = [ 1, 3, 5, 7, 7.5, 8, 9, 10 ]\n",
    "R_arr = concatenate\\\n",
    "    ( ( R_arr, arange( 11, 25, 1 ) ) );\n",
    "R_arr = concatenate( ( R_arr, [ 30, 50, 100, 150, 200 ] ) );\n",
    "\n",
    "# R_arr = linspace( 0.1, 1.0, 9 )\n",
    "# R_arr = concatenate( ( R_arr, [ 2, 3, 5, 200 ] ) );\n",
    "# R_arr = [ 0.1, 200 ];\n",
    "os.system( 'rm pars/test_*.par' );\n",
    "for i, r_au in enumerate( R_arr ):\n",
    "    r   = r_au * AU;\n",
    "    T   = dd.T  ( r );\n",
    "    n0  = dd.n_0( r );\n",
    "\n",
    "    par = ConfigParser(  );\n",
    "    par.read( par_src );\n",
    "    res = par;\n",
    "\n",
    "    for sp, mu_a, ab in zip( species_gen, mu_atm, abund ):\n",
    "        nu_ads = float( res[ sp ][ 'nu_ads' ] );\n",
    "        nu_hop = float( res[ sp ][ 'nu_hop' ] );\n",
    "        de_ads = de_perp( nu_ads, T );\n",
    "        de_hop = f_osci ( nu_hop, T );\n",
    "        de_tra = 2 * f_msT_trans( ab * n0, mu_a * mp, T );\n",
    "        e_ads  = float( par[ sp ][ 'e_ads' ] ) - de_ads / eV\n",
    "        e_ngbr = -de_hop / eV + array\\\n",
    "            ( [ float( a ) for a in \\\n",
    "                      par[ sp ][ 'e_ngbr' ].split(  ) ] );\n",
    "        e_ngbr[ e_ngbr < 0 ] = 0;\n",
    "        res[ sp ][ 'e_ngbr' ] = ' '.join\\\n",
    "            ( [ ( '%g' % a ) for a in e_ngbr ] );\n",
    "        res[ sp ][ 'e_ads'  ] = '%g' %  e_ads;\n",
    "        res[ sp ][ 'e_corr' ] = '%g' % ( -de_tra / eV ); \n",
    "        res[ sp ][ 'abund'  ] = '%g' % ab;\n",
    "    res[ 'adsorption' ][ 'beta_inv' ]\\\n",
    "        = '%g' % ( kb * T / eV );\n",
    "    zeta = sum( abund ) * n0 * sqrt\\\n",
    "        ( kb * T / ( mu_a * mp ) ) * sig_0;\n",
    "    res[ 'adsorption' ][ 'zeta_in'  ] = '%g' % zeta;\n",
    "\n",
    "    res[ 'mesh' ][ 'idx_gpu' ] = '%d' % ( i % 2 )\n",
    "    print( res[ 'mesh' ][ 'idx_gpu' ] )\n",
    "    # print( r_au, T, zeta )\n",
    "\n",
    "    with open( '%s/test_%06.1f.par' % \\\n",
    "              ( tgt, r_au ), 'w' ) as f:\n",
    "        res.write( f );\n",
    "    #\n",
    "#"
   ]
  },
  {
   "cell_type": "code",
   "execution_count": 5,
   "id": "cff3e898",
   "metadata": {},
   "outputs": [
    {
     "data": {
      "text/plain": [
       "280.1778006909184"
      ]
     },
     "execution_count": 5,
     "metadata": {},
     "output_type": "execute_result"
    }
   ],
   "source": [
    "886 * 10**-0.5"
   ]
  },
  {
   "cell_type": "code",
   "execution_count": 1208,
   "id": "ff3da087",
   "metadata": {
    "scrolled": false
   },
   "outputs": [],
   "source": [
    "# os.system( 'rm *.dat; rm *.png; ./ads_emu test.par' );\n",
    "t    = [  ]\n",
    "data = [  ];\n",
    "for file_name in glob( 'test_*.dat' ):\n",
    "    t.append( float( file_name[ 5 : -4 ] ) );\n",
    "    data.append( loadtxt( file_name ) );\n",
    "#\n",
    "i_arg = argsort ( t );\n",
    "t     = array   ( t )[ i_arg ];\n",
    "data  = array( data )[ i_arg ];\n",
    "\n",
    "# cmap = cm.get_cmap( 'gnuplot', 5 );\n",
    "\n",
    "to_plot = True;\n",
    "x_sp = [  ];\n",
    "for i, t_s in enumerate( t ):\n",
    "    a      = data[ i ];\n",
    "    n_tot  = prod( a.shape );\n",
    "    x_sp_s = [  ];\n",
    "    for j, sp in enumerate( species ):\n",
    "        x_sp_s.append( sum( a == j ) / n_tot );\n",
    "    x_sp.append( x_sp_s );\n",
    "    \n",
    "    if not to_plot:\n",
    "        continue;\n",
    "    \n",
    "    fig = figure( 0 );\n",
    "    ax = fig.add_subplot( 111 );\n",
    "    pcm  = ax.pcolormesh( a, vmin = -0.5, vmax = 2.5, cmap = cmap );\n",
    "    cbar = colorbar( pcm, ticks = arange( 3 ) );\n",
    "    cbar.ax.set_yticklabels( species );\n",
    "    ax.set_aspect( 1 );\n",
    "    ax.text( 0, a.shape [ 1 ] * 1.05, \\\n",
    "             r'Step = %d' % int( t_s ) );\n",
    "    fig.savefig( 'test_%04d.png' % i );\n",
    "    close( fig );\n",
    "#\n",
    "x_sp = array( x_sp );"
   ]
  },
  {
   "cell_type": "code",
   "execution_count": 44,
   "id": "468217ac",
   "metadata": {},
   "outputs": [
    {
     "data": {
      "text/plain": [
       "[array([0.3, 0.3]),\n",
       " (0.5803921568627451, 0.403921568627451, 0.7411764705882353, 1.0),\n",
       " (0.6196078431372549, 0.8549019607843137, 0.8980392156862745, 1.0)]"
      ]
     },
     "execution_count": 44,
     "metadata": {},
     "output_type": "execute_result"
    }
   ],
   "source": [
    "colors"
   ]
  },
  {
   "cell_type": "code",
   "execution_count": 1209,
   "id": "229d9ea8",
   "metadata": {},
   "outputs": [
    {
     "data": {
      "image/png": "[encoded data removed]",
      "text/plain": [
       "<Figure size 432x288 with 1 Axes>"
      ]
     },
     "metadata": {},
     "output_type": "display_data"
    }
   ],
   "source": [
    "for x, label, color in zip( x_sp.T, species, colors ):\n",
    "    plot( t, x, color = color, label = label );\n",
    "legend( ncol = 2, loc = 'lower left' );\n",
    "yscale( 'log' );\n",
    "xscale( 'log' );\n",
    "# ylim( 1e-3, 1.2e0 );\n",
    "# xlim( 1e1, None );\n",
    "xlabel( 'Steps' );\n",
    "ylabel( 'Occupation Fraction' );"
   ]
  },
  {
   "cell_type": "code",
   "execution_count": 15,
   "id": "62a6a0f6",
   "metadata": {},
   "outputs": [
    {
     "data": {
      "text/plain": [
       "'/home/lilew/ram_scratch/ads_emu/graphite/'"
      ]
     },
     "execution_count": 15,
     "metadata": {},
     "output_type": "execute_result"
    }
   ],
   "source": [
    "tgt"
   ]
  },
  {
   "cell_type": "code",
   "execution_count": 19,
   "id": "2211ce6b",
   "metadata": {
    "scrolled": false
   },
   "outputs": [
    {
     "name": "stdout",
     "output_type": "stream",
     "text": [
      "/home/lilew/kiaagpu/scratch/ads_emu/graphite/R_0008.0/test_9.5e+06.dat\n",
      "Vacant\t0.00976562\n",
      "H$_2$O\t0.990234\n",
      "CO\t0\n"
     ]
    },
    {
     "data": {
      "image/png": "[encoded data removed]",
      "text/plain": [
       "<Figure size 432x432 with 2 Axes>"
      ]
     },
     "metadata": {},
     "output_type": "display_data"
    }
   ],
   "source": [
    "# os.system( './ads_emu test.par' );\n",
    "# a      = loadtxt( 'test.dat' );\n",
    "\n",
    "t = [  ]\n",
    "d = 8;\n",
    "files = glob( '/home/lilew/kiaagpu/scratch/ads_emu'\n",
    "              '/graphite/R_%06.1f/test_*.dat' % d );\n",
    "\n",
    "# files = glob( '%s/R_0008.0/test*.dat' % tgt );\n",
    "for file_name in files:\n",
    "    t.append( float( file_name.split( '/' )[ -1 ][ 5 : -4 ] ) );\n",
    "#\n",
    "print( files[ argmax( t ) ] )\n",
    "a = loadtxt( files[ argmax( t ) ] );\n",
    "\n",
    "n_tot  = prod( a.shape );\n",
    "for j, sp in enumerate( species ):\n",
    "    print( '%s\\t%g' % ( sp, sum( a == j ) / n_tot ) );\n",
    "\n",
    "fig = figure( 0, figsize = ( 6, 6 ) );\n",
    "ax = fig.add_subplot( 111 );\n",
    "pcm  = ax.pcolormesh( a, vmin = -0.5, vmax = 2.5, cmap = cmap,\\\n",
    "                     rasterized = True);\n",
    "\n",
    "\n",
    "from mpl_toolkits.axes_grid1 import make_axes_locatable\n",
    "divider = make_axes_locatable(ax)\n",
    "cax = divider.append_axes\\\n",
    "( \"right\", size = \"4%\", pad = 0.05 )\n",
    "   \n",
    "cbar = colorbar( pcm, ticks = arange( 3 ), cax = cax );\n",
    "cbar.ax.set_yticklabels( species );\n",
    "ax.set_aspect( 1 );\n",
    "ax.set_yticklabels( [  ] );\n",
    "ax.set_xticklabels( [  ] );\n",
    "ax.tick_params( axis = 'both', which = 'both', length = 0 )\n",
    "# ax.text( 0, 65, r'$R = %0.2f\\ {\\rm AU}$' % d  );\n",
    "savefig( '../raw/surface_coverage/R_%0.2f.svg' % d );"
   ]
  },
  {
   "cell_type": "code",
   "execution_count": null,
   "id": "5025fe81",
   "metadata": {},
   "outputs": [],
   "source": []
  },
  {
   "cell_type": "code",
   "execution_count": 46,
   "id": "c37085c8",
   "metadata": {},
   "outputs": [
    {
     "data": {
      "image/png": "[encoded data removed]",
      "text/html": [
       "<div style=\"vertical-align: middle;\"><strong>tab20</strong> </div><div class=\"cmap\"><img alt=\"tab20 colormap\" title=\"tab20\" style=\"border: 1px solid #555;\" src=\"data:image/png;base64,iVBORw0KGgoAAAANSUhEUgAAAgAAAABACAYAAABsv8+/AAAAFHRFWHRUaXRsZQB0YWIyMCBjb2xvcm1hcM5rFwoAAAAadEVYdERlc2NyaXB0aW9uAHRhYjIwIGNvbG9ybWFwMDS+7AAAADB0RVh0QXV0aG9yAE1hdHBsb3RsaWIgdjMuNS4wLCBodHRwczovL21hdHBsb3RsaWIub3JnUjxewQAAADJ0RVh0U29mdHdhcmUATWF0cGxvdGxpYiB2My41LjAsIGh0dHBzOi8vbWF0cGxvdGxpYi5vcmd8msHmAAABxklEQVR4nO3WMUrWARyH8a+eoEHCIXw3pcEgaGgQhQZ53WwOOoBJ4KJHsM2p1bGtzaEbiFMHaIyOoGud4vcn+H4+F3jWZ2N1dfc3C7g5fbNEJu9/7M5HDs7mG0n2/9yNN86PPo43kuRwfTveeHnxebyRJF9/7o03Xp9sjzeS5P7b5SKdt8cn443Vr1fjjSTZOno23vjy8H28kSTr9Xq88fj0YbyRJKudT+ONg9/vxhtJcv3i+SKdzUUqAMB/xQAAQCEDAACFDAAAFDIAAFDIAABAIQMAAIUMAAAUMgAAUMgAAEAhAwAAhQwAABQyAABQyAAAQCEDAACFDAAAFDIAAFDIAABAIQMAAIUMAAAUMgAAUMgAAEAhAwAAhQwAABQyAABQyAAAQCEDAACFDAAAFDIAAFDIAABAIQMAAIUMAAAUMgAAUMgAAEAhAwAAhQwAABQyAABQyAAAQCEDAACFDAAAFDIAAFDIAABAIQMAAIUMAAAUMgAAUMgAAEAhAwAAhQwAABQyAABQyAAAQCEDAACFDAAAFDIAAFDIAABAIQMAAIUMAAAUMgAAUMgAAEAhAwAAhQwAABQyAABQyAAAQCEDAACF/gH40hjcC1ZyLQAAAABJRU5ErkJggg==\"></div><div style=\"vertical-align: middle; max-width: 514px; display: flex; justify-content: space-between;\"><div style=\"float: left;\"><div title=\"#1f77b4ff\" style=\"display: inline-block; width: 1em; height: 1em; margin: 0; vertical-align: middle; border: 1px solid #555; background-color: #1f77b4ff;\"></div> under</div><div style=\"margin: 0 auto; display: inline-block;\">bad <div title=\"#00000000\" style=\"display: inline-block; width: 1em; height: 1em; margin: 0; vertical-align: middle; border: 1px solid #555; background-color: #00000000;\"></div></div><div style=\"float: right;\">over <div title=\"#9edae5ff\" style=\"display: inline-block; width: 1em; height: 1em; margin: 0; vertical-align: middle; border: 1px solid #555; background-color: #9edae5ff;\"></div></div>"
      ],
      "text/plain": [
       "<matplotlib.colors.ListedColormap at 0x7fbb8272a730>"
      ]
     },
     "execution_count": 46,
     "metadata": {},
     "output_type": "execute_result"
    }
   ],
   "source": [
    "plt.cm.tab20"
   ]
  },
  {
   "cell_type": "code",
   "execution_count": 9,
   "id": "98fd2f6a",
   "metadata": {},
   "outputs": [],
   "source": [
    "R_res = [  ];\n",
    "f_res = [  ];\n",
    "\n",
    "dirs = glob( '/home/lilew/kiaagpu/scratch/ads_emu/silicate/010/R_*' );\n",
    "for d in dirs:\n",
    "    t     = [  ]\n",
    "    files = glob( d + '/test*.dat' );\n",
    "    for file_name in files:\n",
    "        t.append( float( file_name.split( '/' )[ -1 ][ 5 : -4 ] ) );\n",
    "    a = loadtxt( files[ argmax( t ) ] );\n",
    "    n_tot  = prod( a.shape );\n",
    "    f_res.append( [ sum( a == j ) / n_tot \\\n",
    "                    for  j in range( len( species ) ) ] );\n",
    "    R_res.append( float( d.split( '/' )[ -1 ].split( '_' )[ -1 ] ) );\n",
    "#\n",
    "i_srt = argsort( R_res );\n",
    "f_res_si_010 = array( f_res )[ i_srt ];\n",
    "R_res_si_010 = array( R_res )[ i_srt ];\n",
    "\n",
    "R_res = [  ];\n",
    "f_res = [  ];\n",
    "dirs = glob( '/home/lilew/kiaagpu/scratch/ads_emu/silicate/001/R_*' );\n",
    "for d in dirs:\n",
    "    t     = [  ]\n",
    "    files = glob( d + '/test*.dat' );\n",
    "    for file_name in files:\n",
    "        t.append( float( file_name.split( '/' )[ -1 ][ 5 : -4 ] ) );\n",
    "    a = loadtxt( files[ argmax( t ) ] );\n",
    "    n_tot  = prod( a.shape );\n",
    "    f_res.append( [ sum( a == j ) / n_tot \\\n",
    "                    for  j in range( len( species ) ) ] );\n",
    "    R_res.append( float( d.split( '/' )[ -1 ].split( '_' )[ -1 ] ) );\n",
    "#\n",
    "i_srt = argsort( R_res );\n",
    "f_res_si_001 = array( f_res )[ i_srt ];\n",
    "R_res_si_001 = array( R_res )[ i_srt ];\n",
    "\n",
    "R_res = [  ];\n",
    "f_res = [  ];\n",
    "\n",
    "dirs = glob( '/home/lilew/kiaagpu/scratch/ads_emu/graphite/R_*' );\n",
    "for d in dirs:\n",
    "    t     = [  ]\n",
    "    files = glob( d + '/test*.dat' );\n",
    "    for file_name in files:\n",
    "        t.append( float( file_name.split( '/' )[ -1 ][ 5 : -4 ] ) );\n",
    "    a = loadtxt( files[ argmax( t ) ] );\n",
    "    n_tot  = prod( a.shape );\n",
    "    f_res.append( [ sum( a == j ) / n_tot \\\n",
    "                    for  j in range( len( species ) ) ] );\n",
    "    R_res.append( float( d.split( '/' )[ -1 ].split( '_' )[ -1 ] ) );\n",
    "#\n",
    "i_srt = argsort( R_res );\n",
    "f_res_c = array( f_res )[ i_srt ];\n",
    "R_res_c = array( R_res )[ i_srt ];"
   ]
  },
  {
   "cell_type": "code",
   "execution_count": null,
   "id": "f5b1ca5d-13d1-4456-b065-d038b2de6b9c",
   "metadata": {},
   "outputs": [],
   "source": []
  },
  {
   "cell_type": "code",
   "execution_count": 6,
   "id": "3653e7a6",
   "metadata": {},
   "outputs": [
    {
     "data": {
      "image/png": "[encoded data removed]",
      "text/plain": [
       "<Figure size 432x288 with 1 Axes>"
      ]
     },
     "metadata": {},
     "output_type": "display_data"
    }
   ],
   "source": [
    "figure( 0, figsize = ( 6, 4 ) )\n",
    "colors = [ 'k', 'tab:blue', 'tab:orange' ];\n",
    "for i, sp in enumerate( species ):\n",
    "    if i == 0:\n",
    "        continue;\n",
    "    plot( R_res_c,  f_res_c .T[ i ], \\\n",
    "          color = colors[ i ], label = sp );\n",
    "    plot( R_res_si_010, f_res_si_010.T[ i ], \\\n",
    "          color = colors[ i ], linestyle = ':' );\n",
    "    plot( R_res_si_001, f_res_si_001.T[ i ], \\\n",
    "          color = colors[ i ], linestyle = '--' );    \n",
    "xscale( 'log' );\n",
    "yscale( 'log' );\n",
    "\n",
    "ylim( 1e-1, 1.02e0 );\n",
    "xlim( 1e0, 200 );\n",
    "legend( loc = 'lower left' );\n",
    "xlabel( r'$R/{\\rm AU}$' );\n",
    "ylabel( 'Surface Occupation Ratio' );\n",
    "tight_layout(  );\n",
    "#savefig( '../raw/surf；ace_coverage/surface_fraction.svg' );\n",
    "#savefig( '../surface_fraction.pdf' )"
   ]
  },
  {
   "cell_type": "code",
   "execution_count": 17,
   "id": "14b058be",
   "metadata": {},
   "outputs": [
    {
     "data": {
      "image/png": "[encoded data removed]",
      "text/plain": [
       "<Figure size 720x288 with 1 Axes>"
      ]
     },
     "metadata": {},
     "output_type": "display_data"
    }
   ],
   "source": [
    "\n",
    "matplotlib.rcParams[ 'font.size'        ] = 20;\n",
    "matplotlib.rcParams[ 'font.family'      ] = 'sans-serif';\n",
    "matplotlib.rcParams[ 'text.usetex'      ] = False;\n",
    "\n",
    "fig = figure( 0, figsize = ( 10, 4 ) )\n",
    "\n",
    "axhline( 0, linestyle = ':', color = 'k' );\n",
    "axhline( 1, linestyle = ':', color = 'k' );\n",
    "\n",
    "colors = [ 'k', 'tab:blue', 'tab:orange' ];\n",
    "for i, sp in enumerate( species ):\n",
    "    if i == 0:\n",
    "        continue;\n",
    "    plot( R_res_c,  f_res_c .T[ i ], \\\n",
    "          color = colors[ i ], label = sp + ' on Carbon' );\n",
    "#     plot( R_res_si_010, f_res_si_010.T[ i ], \\\n",
    "#           color = colors[ i ], linestyle = ':' );\n",
    "    plot( R_res_si_001, f_res_si_001.T[ i ], \\\n",
    "          color = colors[ i ], linestyle = '--', \\\n",
    "          label = sp + ' on Silicates ');    \n",
    "fig.gca(  ).xaxis.set_label_position( 'top' )\n",
    "fig.gca(  ).xaxis.set_ticks_position( 'top' )\n",
    "xscale( 'log' );\n",
    "# yscale( 'log' );\n",
    "# ylim( 1e-1, 1.1e0 );\n",
    "ylim( -0.05, 1.05 )\n",
    "xlim( 1e0, 200 );\n",
    "legend( loc = 'center left' );\n",
    "xlabel( r'Distance to the Host Star (AU)', fontsize = 18 );\n",
    "ylabel( 'Surface Occupancy', fontsize = 18 );\n",
    "\n",
    "# plot( fig.gca(  ).get_xlim(  ), zeros( 2 ), 'k--' );\n",
    "# plot( fig.gca(  ).get_xlim(  ), ones ( 2 ), 'k--' );\n",
    "\n",
    "tight_layout(  );\n",
    "savefig( '../raw/schematic/surface_coverage.svg' )\n",
    "#savefig( '../surface_fraction.pdf' )"
   ]
  },
  {
   "cell_type": "code",
   "execution_count": null,
   "id": "fd2963ee",
   "metadata": {},
   "outputs": [],
   "source": []
  }
 ],
 "metadata": {
  "kernelspec": {
   "display_name": "Python 3 (ipykernel)",
   "language": "python",
   "name": "python3"
  },
  "language_info": {
   "codemirror_mode": {
    "name": "ipython",
    "version": 3
   },
   "file_extension": ".py",
   "mimetype": "text/x-python",
   "name": "python",
   "nbconvert_exporter": "python",
   "pygments_lexer": "ipython3",
   "version": "3.10.4"
  },
  "name": "kmc.ipynb"
 },
 "nbformat": 4,
 "nbformat_minor": 5
}
